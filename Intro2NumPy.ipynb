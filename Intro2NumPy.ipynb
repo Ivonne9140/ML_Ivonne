{
  "nbformat": 4,
  "nbformat_minor": 0,
  "metadata": {
    "colab": {
      "provenance": [],
      "authorship_tag": "ABX9TyOB0j8/vjlOFXEnDaxKWwBi",
      "include_colab_link": true
    },
    "kernelspec": {
      "name": "python3",
      "display_name": "Python 3"
    },
    "language_info": {
      "name": "python"
    }
  },
  "cells": [
    {
      "cell_type": "markdown",
      "metadata": {
        "id": "view-in-github",
        "colab_type": "text"
      },
      "source": [
        "<a href=\"https://colab.research.google.com/github/Ivonne9140/ML_Ivonne/blob/main/Intro2NumPy.ipynb\" target=\"_parent\"><img src=\"https://colab.research.google.com/assets/colab-badge.svg\" alt=\"Open In Colab\"/></a>"
      ]
    },
    {
      "cell_type": "code",
      "execution_count": null,
      "metadata": {
        "colab": {
          "base_uri": "https://localhost:8080/",
          "height": 36
        },
        "id": "r6-D6oG7cfH6",
        "outputId": "426d23da-fd76-4d96-cd4b-0442715fa051"
      },
      "outputs": [
        {
          "output_type": "execute_result",
          "data": {
            "text/plain": [
              "'1.21.6'"
            ],
            "application/vnd.google.colaboratory.intrinsic+json": {
              "type": "string"
            }
          },
          "metadata": {},
          "execution_count": 13
        }
      ],
      "source": [
        "import numpy\n",
        "numpy.__version__"
      ]
    },
    {
      "cell_type": "code",
      "source": [
        "import numpy as np"
      ],
      "metadata": {
        "id": "F75qwG9Cec99"
      },
      "execution_count": null,
      "outputs": []
    },
    {
      "cell_type": "code",
      "source": [
        "np?"
      ],
      "metadata": {
        "id": "Si1pRYHUejKU"
      },
      "execution_count": null,
      "outputs": []
    },
    {
      "cell_type": "code",
      "source": [
        "L=list(range(10))\n",
        "L"
      ],
      "metadata": {
        "id": "HCsW2THhKkUA",
        "outputId": "d7d1234d-2d6c-4645-80f9-3ece59da875b",
        "colab": {
          "base_uri": "https://localhost:8080/"
        }
      },
      "execution_count": null,
      "outputs": [
        {
          "output_type": "execute_result",
          "data": {
            "text/plain": [
              "[0, 1, 2, 3, 4, 5, 6, 7, 8, 9]"
            ]
          },
          "metadata": {},
          "execution_count": 16
        }
      ]
    },
    {
      "cell_type": "code",
      "source": [
        "type(L[0])"
      ],
      "metadata": {
        "id": "sbiERmozKkbA",
        "outputId": "91bffccc-fbc8-4722-d462-817884404139",
        "colab": {
          "base_uri": "https://localhost:8080/"
        }
      },
      "execution_count": null,
      "outputs": [
        {
          "output_type": "execute_result",
          "data": {
            "text/plain": [
              "int"
            ]
          },
          "metadata": {},
          "execution_count": 17
        }
      ]
    },
    {
      "cell_type": "code",
      "source": [
        "L2=[str(c) for c in L]\n",
        "L2"
      ],
      "metadata": {
        "id": "7NYYSeH6K2VZ",
        "outputId": "819941b1-0614-4fce-8e8c-ed5b15dc2759",
        "colab": {
          "base_uri": "https://localhost:8080/"
        }
      },
      "execution_count": null,
      "outputs": [
        {
          "output_type": "execute_result",
          "data": {
            "text/plain": [
              "['0', '1', '2', '3', '4', '5', '6', '7', '8', '9']"
            ]
          },
          "metadata": {},
          "execution_count": 18
        }
      ]
    },
    {
      "cell_type": "code",
      "source": [
        "type(L2[0])"
      ],
      "metadata": {
        "id": "K-uejQpZLU_K",
        "outputId": "14b9fefe-00ab-4378-fd65-926313758cda",
        "colab": {
          "base_uri": "https://localhost:8080/"
        }
      },
      "execution_count": null,
      "outputs": [
        {
          "output_type": "execute_result",
          "data": {
            "text/plain": [
              "str"
            ]
          },
          "metadata": {},
          "execution_count": 19
        }
      ]
    },
    {
      "cell_type": "code",
      "source": [
        "L3=[True,\"2\", 3.0, 4]\n",
        "[type(item) for item in L3]"
      ],
      "metadata": {
        "id": "yRiO3SnpLhZW",
        "outputId": "f6a83133-ff1e-4c47-a776-2b8a8d25de58",
        "colab": {
          "base_uri": "https://localhost:8080/"
        }
      },
      "execution_count": null,
      "outputs": [
        {
          "output_type": "execute_result",
          "data": {
            "text/plain": [
              "[bool, str, float, int]"
            ]
          },
          "metadata": {},
          "execution_count": 20
        }
      ]
    },
    {
      "cell_type": "code",
      "source": [
        "import array\n",
        "L=list(range(10))\n",
        "A=array.array('i',L)\n",
        "A"
      ],
      "metadata": {
        "id": "BvNKksB-Lxim",
        "outputId": "d69a1460-e208-40f1-bc42-501fbdcd8ccb",
        "colab": {
          "base_uri": "https://localhost:8080/"
        }
      },
      "execution_count": null,
      "outputs": [
        {
          "output_type": "execute_result",
          "data": {
            "text/plain": [
              "array('i', [0, 1, 2, 3, 4, 5, 6, 7, 8, 9])"
            ]
          },
          "metadata": {},
          "execution_count": 21
        }
      ]
    },
    {
      "cell_type": "code",
      "source": [
        "#integer array:\n",
        "np.array([1,4,2,5,3])"
      ],
      "metadata": {
        "id": "H-NOAgiGM-G1",
        "outputId": "2b9932ad-cfc8-4caf-92ce-41ab40b524f0",
        "colab": {
          "base_uri": "https://localhost:8080/"
        }
      },
      "execution_count": null,
      "outputs": [
        {
          "output_type": "execute_result",
          "data": {
            "text/plain": [
              "array([1, 4, 2, 5, 3])"
            ]
          },
          "metadata": {},
          "execution_count": 22
        }
      ]
    },
    {
      "cell_type": "code",
      "source": [
        "np.array([3.14,4,2,3])"
      ],
      "metadata": {
        "id": "zb-shoMLNe2n",
        "outputId": "1a010c41-81c7-4f93-adc9-afa808301d51",
        "colab": {
          "base_uri": "https://localhost:8080/"
        }
      },
      "execution_count": null,
      "outputs": [
        {
          "output_type": "execute_result",
          "data": {
            "text/plain": [
              "array([3.14, 4.  , 2.  , 3.  ])"
            ]
          },
          "metadata": {},
          "execution_count": 25
        }
      ]
    },
    {
      "cell_type": "code",
      "source": [
        "np.array([range(i,i+3) for i in [2,4,6]])"
      ],
      "metadata": {
        "id": "QOw-B4QCOAZt",
        "outputId": "cf95c29b-a39b-473c-ce10-e1a7ecd006e5",
        "colab": {
          "base_uri": "https://localhost:8080/"
        }
      },
      "execution_count": null,
      "outputs": [
        {
          "output_type": "execute_result",
          "data": {
            "text/plain": [
              "array([[2, 3, 4],\n",
              "       [4, 5, 6],\n",
              "       [6, 7, 8]])"
            ]
          },
          "metadata": {},
          "execution_count": 26
        }
      ]
    },
    {
      "cell_type": "markdown",
      "source": [
        "https://numpy.org/doc/stable/user/absolute_beginners.html\n",
        "\n",
        "https://numpy.org/doc/stable/user/quickstart.html#quickstart-array-creation\n"
      ],
      "metadata": {
        "id": "EC1QHE87PsL2"
      }
    },
    {
      "cell_type": "code",
      "source": [
        "a=np.arange(6)\n",
        "a2=a[np.newaxis,:]\n",
        "a2.shape"
      ],
      "metadata": {
        "id": "sQKOzfjuPquS",
        "outputId": "afae2b28-9ed0-4901-974a-cfb28a114742",
        "colab": {
          "base_uri": "https://localhost:8080/"
        }
      },
      "execution_count": null,
      "outputs": [
        {
          "output_type": "execute_result",
          "data": {
            "text/plain": [
              "(1, 6)"
            ]
          },
          "metadata": {},
          "execution_count": 27
        }
      ]
    },
    {
      "cell_type": "code",
      "source": [
        "a=np.array([1,2,3,4,5,6])\n",
        "a\n",
        "b=np.array([[1,2,3,4],[5,6,7,8],[9,10,11,12]])\n",
        "b\n",
        "a"
      ],
      "metadata": {
        "id": "dTsbleSbSOvG",
        "outputId": "ee23f490-784a-4a0d-c08b-528f865d0921",
        "colab": {
          "base_uri": "https://localhost:8080/"
        }
      },
      "execution_count": null,
      "outputs": [
        {
          "output_type": "execute_result",
          "data": {
            "text/plain": [
              "array([1, 2, 3, 4, 5, 6])"
            ]
          },
          "metadata": {},
          "execution_count": 34
        }
      ]
    },
    {
      "cell_type": "code",
      "source": [
        "print(b[0])"
      ],
      "metadata": {
        "id": "HzMOQESESuxu",
        "outputId": "3453aec0-2acb-4612-d2c8-45d5a96f3a77",
        "colab": {
          "base_uri": "https://localhost:8080/"
        }
      },
      "execution_count": null,
      "outputs": [
        {
          "output_type": "stream",
          "name": "stdout",
          "text": [
            "[1 2 3 4]\n"
          ]
        }
      ]
    },
    {
      "cell_type": "code",
      "source": [
        "a =np.array([1,2,3])"
      ],
      "metadata": {
        "id": "DVZn7lyUUhbt"
      },
      "execution_count": null,
      "outputs": []
    },
    {
      "cell_type": "code",
      "source": [
        "np.zeros(2)"
      ],
      "metadata": {
        "id": "pg1xZiOrV_Rl",
        "outputId": "a8147259-3481-44a9-f652-920571960a15",
        "colab": {
          "base_uri": "https://localhost:8080/"
        }
      },
      "execution_count": null,
      "outputs": [
        {
          "output_type": "execute_result",
          "data": {
            "text/plain": [
              "array([0., 0.])"
            ]
          },
          "metadata": {},
          "execution_count": 38
        }
      ]
    },
    {
      "cell_type": "code",
      "source": [
        "np.ones(2)"
      ],
      "metadata": {
        "id": "-krMdo28WDrt",
        "outputId": "64a7b8dc-fea0-467f-ea67-6d886fa2c3ed",
        "colab": {
          "base_uri": "https://localhost:8080/"
        }
      },
      "execution_count": null,
      "outputs": [
        {
          "output_type": "execute_result",
          "data": {
            "text/plain": [
              "array([1., 1.])"
            ]
          },
          "metadata": {},
          "execution_count": 39
        }
      ]
    },
    {
      "cell_type": "code",
      "source": [
        "np.empty(2)"
      ],
      "metadata": {
        "id": "t6Q5H5ODWGS3",
        "outputId": "490ff864-36fe-4cce-888f-f0c395d2c532",
        "colab": {
          "base_uri": "https://localhost:8080/"
        }
      },
      "execution_count": null,
      "outputs": [
        {
          "output_type": "execute_result",
          "data": {
            "text/plain": [
              "array([1., 1.])"
            ]
          },
          "metadata": {},
          "execution_count": 40
        }
      ]
    },
    {
      "cell_type": "code",
      "source": [
        "np.arange(4)"
      ],
      "metadata": {
        "id": "s7oR7CaQWOLu",
        "outputId": "d987fc02-8381-4047-81e2-cec7323e5c0a",
        "colab": {
          "base_uri": "https://localhost:8080/"
        }
      },
      "execution_count": null,
      "outputs": [
        {
          "output_type": "execute_result",
          "data": {
            "text/plain": [
              "array([0, 1, 2, 3])"
            ]
          },
          "metadata": {},
          "execution_count": 41
        }
      ]
    },
    {
      "cell_type": "code",
      "source": [
        "np.arange(2,9,2)"
      ],
      "metadata": {
        "id": "4e4J2wMOWTZX",
        "outputId": "6ae67aa8-8514-42bd-b922-27e61992fc52",
        "colab": {
          "base_uri": "https://localhost:8080/"
        }
      },
      "execution_count": null,
      "outputs": [
        {
          "output_type": "execute_result",
          "data": {
            "text/plain": [
              "array([2, 4, 6, 8])"
            ]
          },
          "metadata": {},
          "execution_count": 42
        }
      ]
    },
    {
      "cell_type": "code",
      "source": [
        "np.linspace(0,10,num=7)"
      ],
      "metadata": {
        "id": "btGFEYz2WjQV",
        "outputId": "6dedfdcb-e757-4dce-c552-fd306300a34c",
        "colab": {
          "base_uri": "https://localhost:8080/"
        }
      },
      "execution_count": null,
      "outputs": [
        {
          "output_type": "execute_result",
          "data": {
            "text/plain": [
              "array([ 0.        ,  1.66666667,  3.33333333,  5.        ,  6.66666667,\n",
              "        8.33333333, 10.        ])"
            ]
          },
          "metadata": {},
          "execution_count": 45
        }
      ]
    },
    {
      "cell_type": "code",
      "source": [
        "x=np.ones(5,dtype=np.int64)\n",
        "x\n"
      ],
      "metadata": {
        "id": "-CZVRXBnW9aR",
        "outputId": "899bed67-6a19-47d7-8461-ac9a5fc47723",
        "colab": {
          "base_uri": "https://localhost:8080/"
        }
      },
      "execution_count": null,
      "outputs": [
        {
          "output_type": "execute_result",
          "data": {
            "text/plain": [
              "array([1, 1, 1, 1, 1])"
            ]
          },
          "metadata": {},
          "execution_count": 49
        }
      ]
    },
    {
      "cell_type": "code",
      "source": [
        "import numpy as np\n",
        "a=np.array([2,3,4])\n",
        "a\n",
        "a.dtype\n",
        "a.size\n",
        "b=np.array([1.2, 3.5, 5.1])\n",
        "b.dtype\n",
        "b.size\n",
        "#c=np.array([0,1,0,3])\n",
        "c=np.array([\"a\",\"a\",\"c\"])\n",
        "c.itemsize\n",
        "c.size"
      ],
      "metadata": {
        "id": "_t2DgdFtXY86",
        "outputId": "28ce4cd1-de82-4173-f435-103fd0f52b4c",
        "colab": {
          "base_uri": "https://localhost:8080/"
        }
      },
      "execution_count": null,
      "outputs": [
        {
          "output_type": "execute_result",
          "data": {
            "text/plain": [
              "3"
            ]
          },
          "metadata": {},
          "execution_count": 8
        }
      ]
    },
    {
      "cell_type": "code",
      "source": [
        "a=np.array([1,2,3,4])\n",
        "a"
      ],
      "metadata": {
        "id": "Noa2Ryf7Xr_d",
        "outputId": "05426c3c-73e4-405e-8ecd-60ccab654494",
        "colab": {
          "base_uri": "https://localhost:8080/"
        }
      },
      "execution_count": null,
      "outputs": [
        {
          "output_type": "execute_result",
          "data": {
            "text/plain": [
              "array([1, 2, 3, 4])"
            ]
          },
          "metadata": {},
          "execution_count": 60
        }
      ]
    },
    {
      "cell_type": "code",
      "source": [
        "b=np.array([(1.5,2,3),(4,5,6)])\n",
        "b"
      ],
      "metadata": {
        "id": "ElXIW6QiYWgo",
        "outputId": "635c07d7-8583-4085-b4e2-fb66e46761aa",
        "colab": {
          "base_uri": "https://localhost:8080/"
        }
      },
      "execution_count": null,
      "outputs": [
        {
          "output_type": "execute_result",
          "data": {
            "text/plain": [
              "array([[1.5, 2. , 3. ],\n",
              "       [4. , 5. , 6. ]])"
            ]
          },
          "metadata": {},
          "execution_count": 61
        }
      ]
    },
    {
      "cell_type": "code",
      "source": [
        "c=np.array([[1,2],[3,4]], dtype=complex)\n",
        "c"
      ],
      "metadata": {
        "id": "5-9IWOODYim0",
        "outputId": "2ae95ce2-f696-4c43-cbda-5db051d8f2ba",
        "colab": {
          "base_uri": "https://localhost:8080/"
        }
      },
      "execution_count": null,
      "outputs": [
        {
          "output_type": "execute_result",
          "data": {
            "text/plain": [
              "array([[1.+0.j, 2.+0.j],\n",
              "       [3.+0.j, 4.+0.j]])"
            ]
          },
          "metadata": {},
          "execution_count": 62
        }
      ]
    },
    {
      "cell_type": "code",
      "source": [
        "import numpy as np\n",
        "a=np.arange(15).reshape(5,3)\n",
        "b=a\n",
        "a.shape #the dimensions of the array (rows,columns) \n",
        "a.ndim #the number of axes (dimensions) of the array, is the length of the output of x.shape\n",
        "a.size #the total number of elements of the array\n",
        "a.dtype.name\n",
        "a.itemsize #The size in bytes of each element of the array\n",
        "type(a)"
      ],
      "metadata": {
        "id": "RgMLU7ESTgg2",
        "outputId": "04ae70f2-27fd-4b60-fb93-5cd1a1548cdf",
        "colab": {
          "base_uri": "https://localhost:8080/"
        }
      },
      "execution_count": null,
      "outputs": [
        {
          "output_type": "execute_result",
          "data": {
            "text/plain": [
              "numpy.ndarray"
            ]
          },
          "metadata": {},
          "execution_count": 28
        }
      ]
    },
    {
      "cell_type": "code",
      "source": [
        "import numpy as np\n",
        "q=np.array([[1,2,3],[1,2,3],[1,2,3]])\n",
        "q\n",
        "q.shape\n",
        "q.ndim\n",
        "q.size\n",
        "q.sum(axis=1)\n",
        "q.mean(axis=1)\n",
        "\n"
      ],
      "metadata": {
        "id": "rmEIa2gxV0Fb",
        "outputId": "9c050018-c0ee-4c03-f82b-9ad783166fee",
        "colab": {
          "base_uri": "https://localhost:8080/"
        }
      },
      "execution_count": null,
      "outputs": [
        {
          "output_type": "execute_result",
          "data": {
            "text/plain": [
              "array([2., 2., 2.])"
            ]
          },
          "metadata": {},
          "execution_count": 44
        }
      ]
    },
    {
      "cell_type": "code",
      "source": [
        "#to make a sequence numbers\n",
        "np.arange(12)\n",
        "np.arange(3,10)\n",
        "np.arange(5,11,0.65)\n",
        "np.arange(1,10).reshape(3,3)"
      ],
      "metadata": {
        "id": "-0wqe8dNYSTu",
        "outputId": "564473ea-cb44-4cd3-80a7-b588b76732f9",
        "colab": {
          "base_uri": "https://localhost:8080/"
        }
      },
      "execution_count": null,
      "outputs": [
        {
          "output_type": "execute_result",
          "data": {
            "text/plain": [
              "array([[1, 2, 3],\n",
              "       [4, 5, 6],\n",
              "       [7, 8, 9]])"
            ]
          },
          "metadata": {},
          "execution_count": 55
        }
      ]
    },
    {
      "cell_type": "code",
      "source": [
        "# to fills a vector with evenly spaced variables for a specified interval\n",
        "w=np.linspace(0,11,5)\n",
        "w"
      ],
      "metadata": {
        "id": "mW0CfeXpY4eV",
        "outputId": "674b58d0-9f65-4c1e-8fa4-d8b435fbc1a1",
        "colab": {
          "base_uri": "https://localhost:8080/"
        }
      },
      "execution_count": null,
      "outputs": [
        {
          "output_type": "execute_result",
          "data": {
            "text/plain": [
              "array([ 0.  ,  2.75,  5.5 ,  8.25, 11.  ])"
            ]
          },
          "metadata": {},
          "execution_count": 60
        }
      ]
    },
    {
      "cell_type": "code",
      "source": [
        "#https://people.duke.edu/~ccc14/pcfb/numpympl/Arrays.html\n",
        "import numpy as np\n",
        "import matplotlib.pyplot as plt\n",
        "fig = plt.figure()\n",
        "ax=fig.add_subplot(111)\n",
        "N=20\n",
        "y=np.zeros(N)\n",
        "x1=np.linspace(0,10,N,endpoint=True)\n",
        "pl = plt.plot(x1,y,'o')\n",
        "ax.set_xlim([-0.5, 10.5])\n",
        "plt.show()"
      ],
      "metadata": {
        "id": "A9BpbIDkZVp3",
        "outputId": "425e1550-acb5-4b87-aec8-b33efd13cc3d",
        "colab": {
          "base_uri": "https://localhost:8080/",
          "height": 265
        }
      },
      "execution_count": null,
      "outputs": [
        {
          "output_type": "display_data",
          "data": {
            "text/plain": [
              "<Figure size 432x288 with 1 Axes>"
            ],
            "image/png": "[encoded data removed]"
          },
          "metadata": {
            "needs_background": "light"
          }
        }
      ]
    }
  ]
}