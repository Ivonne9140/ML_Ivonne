{
  "nbformat": 4,
  "nbformat_minor": 0,
  "metadata": {
    "colab": {
      "provenance": [],
      "authorship_tag": "ABX9TyP5xPBH+s8FqGUXrnBecDex",
      "include_colab_link": true
    },
    "kernelspec": {
      "name": "python3",
      "display_name": "Python 3"
    },
    "language_info": {
      "name": "python"
    }
  },
  "cells": [
    {
      "cell_type": "markdown",
      "metadata": {
        "id": "view-in-github",
        "colab_type": "text"
      },
      "source": [
        "<a href=\"https://colab.research.google.com/github/Ivonne9140/ML_Ivonne/blob/main/ML_Project.ipynb\" target=\"_parent\"><img src=\"https://colab.research.google.com/assets/colab-badge.svg\" alt=\"Open In Colab\"/></a>"
      ]
    },
    {
      "cell_type": "code",
      "execution_count": 1,
      "metadata": {
        "id": "dKRG8YFmFOOV"
      },
      "outputs": [],
      "source": [
        "import pandas as pd\n",
        "from sklearn.model_selection import train_test_split\n",
        "from sklearn.svm import SVC\n",
        "from matplotlib import pyplot as plt\n",
        "%matplotlib inline"
      ]
    },
    {
      "cell_type": "code",
      "source": [
        "url='https://raw.githubusercontent.com/Ivonne9140/ML_Ivonne/main/test_set.csv'\n",
        "df=pd.read_csv(url)\n",
        "df['Fault']=df['Fault'].map({\n",
        "    '0': 'Pass',\n",
        "    'sa0':'sa0',\n",
        "    'sa1':'sa1',\n",
        "    'sr':'sr',\n",
        "    'sf':'sf'\n",
        "})\n",
        "labels = df['Fault'].tolist()\n",
        "df['Class']=labels\n",
        "print (df)"
      ],
      "metadata": {
        "colab": {
          "base_uri": "https://localhost:8080/"
        },
        "id": "KHahPzhDFrQP",
        "outputId": "78e0da90-8b96-4b9d-f2d5-53c1611cfea6"
      },
      "execution_count": 3,
      "outputs": [
        {
          "output_type": "stream",
          "name": "stdout",
          "text": [
            "    Vector  Cell  Expected  Actual Fault Class\n",
            "0        1     1         0       0  Pass  Pass\n",
            "1        1     2         0       0  Pass  Pass\n",
            "2        1     3         1       0   sa0   sa0\n",
            "3        1     4         1       0   sa0   sa0\n",
            "4        1     5         0       0  Pass  Pass\n",
            "5        1     6         0       0  Pass  Pass\n",
            "6        1     7         1       0   sa0   sa0\n",
            "7        1     8         1       0   sa0   sa0\n",
            "8        1     9         0       0  Pass  Pass\n",
            "9        1    10         0       0  Pass  Pass\n",
            "10       1    11         1       0   sa0   sa0\n",
            "11       1    12         1       0   sa0   sa0\n",
            "12       2     1         0       1   sa1   sa1\n",
            "13       2     2         0       1   sa1   sa1\n",
            "14       2     3         1       1  Pass  Pass\n",
            "15       2     4         1       1  Pass  Pass\n",
            "16       2     5         0       1   sa1   sa1\n",
            "17       2     6         0       1   sa1   sa1\n",
            "18       2     7         1       1  Pass  Pass\n",
            "19       2     8         1       1  Pass  Pass\n",
            "20       2     9         0       1   sa1   sa1\n",
            "21       2    10         0       1   sa1   sa1\n",
            "22       2    11         1       1  Pass  Pass\n",
            "23       2    12         1       1  Pass  Pass\n",
            "24       3     1         0       0  Pass  Pass\n",
            "25       3     2         0       0  Pass  Pass\n",
            "26       3     3         1       1  Pass  Pass\n",
            "27       3     4         1       0    sr    sr\n",
            "28       3     5         0       0  Pass  Pass\n",
            "29       3     6         0       0  Pass  Pass\n",
            "30       3     7         1       1  Pass  Pass\n",
            "31       3     8         1       0    sr    sr\n",
            "32       3     9         0       0  Pass  Pass\n",
            "33       3    10         0       0  Pass  Pass\n",
            "34       3    11         1       1  Pass  Pass\n",
            "35       3    12         1       0    sr    sr\n",
            "36       4     1         0       0  Pass  Pass\n",
            "37       4     2         0       1    sf    sf\n",
            "38       4     3         1       1  Pass  Pass\n",
            "39       4     4         1       1  Pass  Pass\n",
            "40       4     5         0       0  Pass  Pass\n",
            "41       4     6         0       1    sf    sf\n",
            "42       4     7         1       1  Pass  Pass\n",
            "43       4     8         1       1  Pass  Pass\n",
            "44       4     9         0       0  Pass  Pass\n",
            "45       4    10         0       1    sf    sf\n",
            "46       4    11         1       1  Pass  Pass\n",
            "47       4    12         1       1  Pass  Pass\n"
          ]
        }
      ]
    },
    {
      "cell_type": "code",
      "source": [
        "target_names = ['sa0','sa1','Pass','sf','sr']\n",
        "#df['Fault_type']=df.Class.apply(lambda x:target_names[x])\n",
        "#print(df)"
      ],
      "metadata": {
        "id": "bspyJy6zSl53"
      },
      "execution_count": 4,
      "outputs": []
    },
    {
      "cell_type": "code",
      "source": [
        "df1=df[df.Class=='sa0']\n",
        "df2=df[df.Class=='sa1']\n",
        "df3=df[df.Class=='Pass']\n",
        "df4=df[df.Class=='sf']\n",
        "df5=df[df.Class=='sr']\n"
      ],
      "metadata": {
        "id": "MD8LAhClSmAA"
      },
      "execution_count": 5,
      "outputs": []
    },
    {
      "cell_type": "code",
      "source": [
        "plt.xlabel('Result')\n",
        "plt.ylabel('Cell')\n",
        "plt.scatter(df1['Fault'],df1['Cell'], color='red',marker='+')\n",
        "plt.scatter(df2['Fault'],df2['Cell'], color='blue',marker='+')\n",
        "plt.scatter(df3['Fault'],df3['Cell'], color='green',marker='+')\n",
        "plt.scatter(df4['Fault'],df4['Cell'], color='orange',marker='+')\n",
        "plt.scatter(df5['Fault'],df5['Cell'], color='purple',marker='+')\n",
        "plt.scatter(df3['Fault'],df3['Cell'], color='gray',marker='+')"
      ],
      "metadata": {
        "colab": {
          "base_uri": "https://localhost:8080/",
          "height": 296
        },
        "id": "V4aAi1uSc05u",
        "outputId": "7488425a-6d4f-4327-afc7-4a98a611146d"
      },
      "execution_count": 10,
      "outputs": [
        {
          "output_type": "execute_result",
          "data": {
            "text/plain": [
              "<matplotlib.collections.PathCollection at 0x7f45f5a54d10>"
            ]
          },
          "metadata": {},
          "execution_count": 10
        },
        {
          "output_type": "display_data",
          "data": {
            "text/plain": [
              "<Figure size 432x288 with 1 Axes>"
            ],
            "image/png": "[encoded data removed]"
          },
          "metadata": {
            "needs_background": "light"
          }
        }
      ]
    },
    {
      "cell_type": "code",
      "source": [
        "x=df.drop(['Class','Fault'],axis='columns')\n",
        "print(x)"
      ],
      "metadata": {
        "colab": {
          "base_uri": "https://localhost:8080/"
        },
        "id": "_QXTul50xxfo",
        "outputId": "dc369f0d-58cb-49f9-899c-3d5ce9608add"
      },
      "execution_count": 13,
      "outputs": [
        {
          "output_type": "stream",
          "name": "stdout",
          "text": [
            "    Vector  Cell  Expected  Actual\n",
            "0        1     1         0       0\n",
            "1        1     2         0       0\n",
            "2        1     3         1       0\n",
            "3        1     4         1       0\n",
            "4        1     5         0       0\n",
            "5        1     6         0       0\n",
            "6        1     7         1       0\n",
            "7        1     8         1       0\n",
            "8        1     9         0       0\n",
            "9        1    10         0       0\n",
            "10       1    11         1       0\n",
            "11       1    12         1       0\n",
            "12       2     1         0       1\n",
            "13       2     2         0       1\n",
            "14       2     3         1       1\n",
            "15       2     4         1       1\n",
            "16       2     5         0       1\n",
            "17       2     6         0       1\n",
            "18       2     7         1       1\n",
            "19       2     8         1       1\n",
            "20       2     9         0       1\n",
            "21       2    10         0       1\n",
            "22       2    11         1       1\n",
            "23       2    12         1       1\n",
            "24       3     1         0       0\n",
            "25       3     2         0       0\n",
            "26       3     3         1       1\n",
            "27       3     4         1       0\n",
            "28       3     5         0       0\n",
            "29       3     6         0       0\n",
            "30       3     7         1       1\n",
            "31       3     8         1       0\n",
            "32       3     9         0       0\n",
            "33       3    10         0       0\n",
            "34       3    11         1       1\n",
            "35       3    12         1       0\n",
            "36       4     1         0       0\n",
            "37       4     2         0       1\n",
            "38       4     3         1       1\n",
            "39       4     4         1       1\n",
            "40       4     5         0       0\n",
            "41       4     6         0       1\n",
            "42       4     7         1       1\n",
            "43       4     8         1       1\n",
            "44       4     9         0       0\n",
            "45       4    10         0       1\n",
            "46       4    11         1       1\n",
            "47       4    12         1       1\n"
          ]
        }
      ]
    },
    {
      "cell_type": "code",
      "source": [
        "y=df.Class"
      ],
      "metadata": {
        "id": "Cox-Z37QxVBM"
      },
      "execution_count": 14,
      "outputs": []
    },
    {
      "cell_type": "code",
      "source": [
        "x_train,x_test,y_train,y_test = train_test_split(x,y,random_state=0,test_size=0.25)\n"
      ],
      "metadata": {
        "id": "rAAla4xUxXzq"
      },
      "execution_count": 15,
      "outputs": []
    },
    {
      "cell_type": "code",
      "source": [
        "print(len(x_train))\n",
        "print(len(x_test))\n",
        "print(len(y_train))\n",
        "print(len(y_test))"
      ],
      "metadata": {
        "colab": {
          "base_uri": "https://localhost:8080/"
        },
        "id": "jGQEiZI7yZqg",
        "outputId": "d3eb13a2-245a-4a26-f491-1e087e8937f8"
      },
      "execution_count": 16,
      "outputs": [
        {
          "output_type": "stream",
          "name": "stdout",
          "text": [
            "36\n",
            "12\n",
            "36\n",
            "12\n"
          ]
        }
      ]
    },
    {
      "cell_type": "code",
      "source": [
        "model = SVC(kernel='linear') #Support Vector Classifier"
      ],
      "metadata": {
        "id": "hP8EVBYxyigN"
      },
      "execution_count": 17,
      "outputs": []
    },
    {
      "cell_type": "code",
      "source": [
        "model.fit(x_train,y_train)"
      ],
      "metadata": {
        "colab": {
          "base_uri": "https://localhost:8080/"
        },
        "id": "BBj3Mp6AyojF",
        "outputId": "cd914254-807d-4c83-82ca-7988bfb30fac"
      },
      "execution_count": 18,
      "outputs": [
        {
          "output_type": "execute_result",
          "data": {
            "text/plain": [
              "SVC(kernel='linear')"
            ]
          },
          "metadata": {},
          "execution_count": 18
        }
      ]
    },
    {
      "cell_type": "code",
      "source": [
        "predictions=model.predict(x_test)\n",
        "print (predictions)"
      ],
      "metadata": {
        "id": "BB5jdbli0TUY",
        "colab": {
          "base_uri": "https://localhost:8080/"
        },
        "outputId": "9ead295f-d26b-4e40-e949-ba4e3ec32b9b"
      },
      "execution_count": 19,
      "outputs": [
        {
          "output_type": "stream",
          "name": "stdout",
          "text": [
            "['Pass' 'Pass' 'Pass' 'Pass' 'Pass' 'Pass' 'Pass' 'Pass' 'sa0' 'sa0' 'sa0'\n",
            " 'Pass']\n"
          ]
        }
      ]
    },
    {
      "cell_type": "code",
      "source": [
        "percentage = model.score(x_test,y_test)"
      ],
      "metadata": {
        "id": "S2bpi_W804GZ"
      },
      "execution_count": 20,
      "outputs": []
    },
    {
      "cell_type": "code",
      "source": [
        "from sklearn.metrics._plot.confusion_matrix import plot_confusion_matrix\n",
        "from sklearn.metrics import confusion_matrix\n",
        "res = confusion_matrix(y_test, predictions)\n",
        "plot_confusion_matrix(model,x_test, y_test, cmap=plt.cm.Blues)\n",
        "plt.show()\n",
        "print(\"Confusion Matrix\")\n",
        "print(res)\n",
        "print(f\"Test Set: {len(x_test)}\")\n",
        "print(f\"Accuracy = {percentage*100} %\")"
      ],
      "metadata": {
        "id": "y9KbO1J31ACr",
        "colab": {
          "base_uri": "https://localhost:8080/",
          "height": 459
        },
        "outputId": "848aed19-a1a6-4ac0-dfc0-5389e891db0f"
      },
      "execution_count": 22,
      "outputs": [
        {
          "output_type": "stream",
          "name": "stderr",
          "text": [
            "/usr/local/lib/python3.7/dist-packages/sklearn/utils/deprecation.py:87: FutureWarning: Function plot_confusion_matrix is deprecated; Function `plot_confusion_matrix` is deprecated in 1.0 and will be removed in 1.2. Use one of the class methods: ConfusionMatrixDisplay.from_predictions or ConfusionMatrixDisplay.from_estimator.\n",
            "  warnings.warn(msg, category=FutureWarning)\n"
          ]
        },
        {
          "output_type": "display_data",
          "data": {
            "text/plain": [
              "<Figure size 432x288 with 2 Axes>"
            ],
            "image/png": "[encoded data removed]"
          },
          "metadata": {
            "needs_background": "light"
          }
        },
        {
          "output_type": "stream",
          "name": "stdout",
          "text": [
            "Confusion Matrix\n",
            "[[7 0 0 0]\n",
            " [0 3 0 0]\n",
            " [1 0 0 0]\n",
            " [1 0 0 0]]\n",
            "Test Set: 12\n",
            "Accuracy = 83.33333333333334 %\n"
          ]
        }
      ]
    },
    {
      "cell_type": "code",
      "source": [
        "from sklearn.metrics import classification_report\n",
        "print(classification_report(y_test, predictions))"
      ],
      "metadata": {
        "colab": {
          "base_uri": "https://localhost:8080/"
        },
        "id": "3jq2x1Kl9_6M",
        "outputId": "7be9db7d-8c32-495e-ab52-ab0bbcc045da"
      },
      "execution_count": 23,
      "outputs": [
        {
          "output_type": "stream",
          "name": "stdout",
          "text": [
            "              precision    recall  f1-score   support\n",
            "\n",
            "        Pass       0.78      1.00      0.88         7\n",
            "         sa0       1.00      1.00      1.00         3\n",
            "          sf       0.00      0.00      0.00         1\n",
            "          sr       0.00      0.00      0.00         1\n",
            "\n",
            "    accuracy                           0.83        12\n",
            "   macro avg       0.44      0.50      0.47        12\n",
            "weighted avg       0.70      0.83      0.76        12\n",
            "\n"
          ]
        },
        {
          "output_type": "stream",
          "name": "stderr",
          "text": [
            "/usr/local/lib/python3.7/dist-packages/sklearn/metrics/_classification.py:1318: UndefinedMetricWarning: Precision and F-score are ill-defined and being set to 0.0 in labels with no predicted samples. Use `zero_division` parameter to control this behavior.\n",
            "  _warn_prf(average, modifier, msg_start, len(result))\n",
            "/usr/local/lib/python3.7/dist-packages/sklearn/metrics/_classification.py:1318: UndefinedMetricWarning: Precision and F-score are ill-defined and being set to 0.0 in labels with no predicted samples. Use `zero_division` parameter to control this behavior.\n",
            "  _warn_prf(average, modifier, msg_start, len(result))\n",
            "/usr/local/lib/python3.7/dist-packages/sklearn/metrics/_classification.py:1318: UndefinedMetricWarning: Precision and F-score are ill-defined and being set to 0.0 in labels with no predicted samples. Use `zero_division` parameter to control this behavior.\n",
            "  _warn_prf(average, modifier, msg_start, len(result))\n"
          ]
        }
      ]
    }
  ]
}